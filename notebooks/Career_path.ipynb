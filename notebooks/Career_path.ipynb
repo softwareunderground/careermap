{
 "cells": [
  {
   "cell_type": "markdown",
   "metadata": {},
   "source": [
    "# Career path\n",
    "\n",
    "Mapping career paths at TRANSFORM 2020."
   ]
  },
  {
   "cell_type": "markdown",
   "metadata": {},
   "source": [
    "We'll use a 'vocab' so that everyone uses more or less the same words... we'll do some fuzzy matching so we don't end up with 'undergrad' and 'undergraduate' as separate things."
   ]
  },
  {
   "cell_type": "code",
   "execution_count": 1,
   "metadata": {},
   "outputs": [],
   "source": [
    "# Apart from academic, it's mostly 'where you work', not 'what you do'.\n",
    "VOCAB = [\"student\", \"undergrad\", \"postgrad\", \"postdoc\", \"lecturer\", \"professor\", \"reader\", \"academic\",\n",
    "         \"megaservice\", \"service\", \"microservice\",\n",
    "         \"consultant\", \"sales\",\n",
    "         \"software\", \"technology\",\n",
    "         \"noc\", \"ioc\", \"independent\", \"exploration\", \"e&p\",\n",
    "         \"government\", \"agency\", \"localgov\",\n",
    "         \"mining\",\n",
    "         \"unemployed\", \"self-employed\", \"retired\",\n",
    "         \"startup\",\n",
    "         \"other\", # Relevant professional but doesn't fit elsewhere\n",
    "         'break'  # Non-professional career break or other gap\n",
    "        ]"
   ]
  },
  {
   "cell_type": "markdown",
   "metadata": {},
   "source": [
    "Some made up data, including probably 'variants' (missing numbers, misspellings, no spaces, etc.).\n",
    "\n",
    "The format is 'job' followed by a space then a number representing the number of years there. The records are separated by commas."
   ]
  },
  {
   "cell_type": "code",
   "execution_count": 2,
   "metadata": {},
   "outputs": [],
   "source": [
    "import difflib\n",
    "m = difflib.get_close_matches('govt', VOCAB, n=1, cutoff=0.8)"
   ]
  },
  {
   "cell_type": "code",
   "execution_count": 4,
   "metadata": {},
   "outputs": [],
   "source": [
    "data = [\n",
    "    \"undergraduate 3, postgraduate 4, noc 3, software 4, consultant 1, ioc 5, microservice 10\",\n",
    "    \"undergrd 4, independent 5, startup 5, software 3\",\n",
    "    \"undergrad 3, service 3, postgrad 5, postdoc 3, ioc 5, professor 16, retired\",\n",
    "    \"undergrad 3, postgrad, postdoc 3, noc 4, professor 20, retired\",\n",
    "    \"undergrad 3, megaservice 5, software 3, unemployed 1, exploration 3, startup 1\",\n",
    "    \"undergrad 3,postgrad 2,postgrad 4,software 3,unemployed 1,exploration 3,startup 1\",\n",
    "    \"undergrad, postgrad, government,  mining, self-employed,\",\n",
    "    \"ioc 5, ioc 4, ioc 5\",\n",
    "]"
   ]
  },
  {
   "cell_type": "code",
   "execution_count": null,
   "metadata": {},
   "outputs": [],
   "source": []
  },
  {
   "cell_type": "markdown",
   "metadata": {},
   "source": [
    "## Parse data"
   ]
  },
  {
   "cell_type": "code",
   "execution_count": 9,
   "metadata": {},
   "outputs": [],
   "source": [
    "import difflib\n",
    "from datetime import datetime\n",
    "from collections import defaultdict\n",
    "\n",
    "def store_entry(data):\n",
    "    \"\"\"\n",
    "    In the webapp, we'll record every single response 'raw' so we can process later.\n",
    "    \"\"\"\n",
    "    with open('log.txt', 'ta') as f:\n",
    "        d = datetime.utcnow().isoformat() + '\\t'\n",
    "        f.write(d + data + '\\n')\n",
    "    return 'Done'\n",
    "\n",
    "def get_info(record):\n",
    "    \"\"\"\n",
    "    Take a single response and turn it into a list of careers.\n",
    "    \n",
    "    Completely ignore the numbers for now.\n",
    "    \"\"\"\n",
    "    items = [tuple(i.strip().split()) for i in record.split(',')]\n",
    "    items = filter(None, items)\n",
    "    path, years = [], defaultdict(int)\n",
    "    for pair in items:\n",
    "        # Get employment.\n",
    "        m = difflib.get_close_matches(pair[0], VOCAB, n=1, cutoff=0.5)\n",
    "        if m:\n",
    "            path.append(m[0])\n",
    "        else:\n",
    "            path.append('other')\n",
    "\n",
    "        # Get years.\n",
    "        try:\n",
    "            y = float(pair[1])\n",
    "        except ValueError:  # Garbled number\n",
    "            y = 1\n",
    "        except IndexError:  # None provided\n",
    "            y = 1\n",
    "        years[m[0]] += y\n",
    "\n",
    "    return path, years"
   ]
  },
  {
   "cell_type": "code",
   "execution_count": 10,
   "metadata": {},
   "outputs": [],
   "source": [
    "# Just for the toy data.\n",
    "paths, yearses = [], []\n",
    "for record in data:\n",
    "    store_entry(record)\n",
    "    path, years = get_info(record)\n",
    "    paths.append(path)\n",
    "    yearses.append(years)"
   ]
  },
  {
   "cell_type": "code",
   "execution_count": 11,
   "metadata": {},
   "outputs": [
    {
     "data": {
      "text/plain": [
       "[defaultdict(int,\n",
       "             {'undergrad': 3.0,\n",
       "              'postgrad': 4.0,\n",
       "              'noc': 3.0,\n",
       "              'software': 4.0,\n",
       "              'consultant': 1.0,\n",
       "              'ioc': 5.0,\n",
       "              'microservice': 10.0}),\n",
       " defaultdict(int,\n",
       "             {'undergrad': 4.0,\n",
       "              'independent': 5.0,\n",
       "              'startup': 5.0,\n",
       "              'software': 3.0}),\n",
       " defaultdict(int,\n",
       "             {'undergrad': 3.0,\n",
       "              'service': 3.0,\n",
       "              'postgrad': 5.0,\n",
       "              'postdoc': 3.0,\n",
       "              'ioc': 5.0,\n",
       "              'professor': 16.0,\n",
       "              'retired': 1}),\n",
       " defaultdict(int,\n",
       "             {'undergrad': 3.0,\n",
       "              'postgrad': 1,\n",
       "              'postdoc': 3.0,\n",
       "              'noc': 4.0,\n",
       "              'professor': 20.0,\n",
       "              'retired': 1}),\n",
       " defaultdict(int,\n",
       "             {'undergrad': 3.0,\n",
       "              'megaservice': 5.0,\n",
       "              'software': 3.0,\n",
       "              'unemployed': 1.0,\n",
       "              'exploration': 3.0,\n",
       "              'startup': 1.0}),\n",
       " defaultdict(int,\n",
       "             {'undergrad': 3.0,\n",
       "              'postgrad': 6.0,\n",
       "              'software': 3.0,\n",
       "              'unemployed': 1.0,\n",
       "              'exploration': 3.0,\n",
       "              'startup': 1.0}),\n",
       " defaultdict(int,\n",
       "             {'undergrad': 1,\n",
       "              'postgrad': 1,\n",
       "              'government': 1,\n",
       "              'mining': 1,\n",
       "              'self-employed': 1}),\n",
       " defaultdict(int, {'ioc': 14.0})]"
      ]
     },
     "execution_count": 11,
     "metadata": {},
     "output_type": "execute_result"
    }
   ],
   "source": [
    "yearses"
   ]
  },
  {
   "cell_type": "code",
   "execution_count": 12,
   "metadata": {},
   "outputs": [
    {
     "data": {
      "text/plain": [
       "(defaultdict(int, {'ioc': 14.0}), 14.0)"
      ]
     },
     "execution_count": 12,
     "metadata": {},
     "output_type": "execute_result"
    }
   ],
   "source": [
    "\n",
    "years, sum(years.values())"
   ]
  },
  {
   "cell_type": "markdown",
   "metadata": {},
   "source": [
    "Use a Shelf:"
   ]
  },
  {
   "cell_type": "code",
   "execution_count": 13,
   "metadata": {},
   "outputs": [],
   "source": [
    "!rm edges.*"
   ]
  },
  {
   "cell_type": "code",
   "execution_count": 14,
   "metadata": {},
   "outputs": [],
   "source": [
    "!rm nodes.*"
   ]
  },
  {
   "cell_type": "code",
   "execution_count": 15,
   "metadata": {},
   "outputs": [],
   "source": [
    "!rm lens.*"
   ]
  },
  {
   "cell_type": "code",
   "execution_count": 16,
   "metadata": {},
   "outputs": [],
   "source": [
    "!rm lasts.*"
   ]
  },
  {
   "cell_type": "code",
   "execution_count": 17,
   "metadata": {},
   "outputs": [],
   "source": [
    "import shelve\n",
    "from collections import Counter\n",
    "\n",
    "def store(path, years):\n",
    "    with shelve.open('edges') as db:\n",
    "        for pair in [*zip(path[:-1], path[1:])]:\n",
    "            count = db.get(','.join(pair), 0)\n",
    "            db[','.join(pair)] = count + 1\n",
    "    with shelve.open('nodes') as db:\n",
    "        for k, v in years.items():\n",
    "            vi = db.get(k, 0)\n",
    "            db[k] = vi + v\n",
    "    with shelve.open('lasts') as db:\n",
    "        last = path[-1]\n",
    "        db[last] = db.get(last, 0) + 1\n",
    "    with shelve.open('lens') as db:\n",
    "        length = str(int(sum(years.values())))\n",
    "        db[length] = db.get(length, 0) + 1\n",
    "    return"
   ]
  },
  {
   "cell_type": "code",
   "execution_count": 18,
   "metadata": {},
   "outputs": [],
   "source": [
    "for path, years in zip(paths, yearses):\n",
    "    store(path, years)"
   ]
  },
  {
   "cell_type": "markdown",
   "metadata": {},
   "source": [
    "## Make network"
   ]
  },
  {
   "cell_type": "code",
   "execution_count": null,
   "metadata": {},
   "outputs": [],
   "source": []
  },
  {
   "cell_type": "code",
   "execution_count": 19,
   "metadata": {},
   "outputs": [],
   "source": [
    "import networkx as nx\n",
    "\n",
    "G = nx.Graph()\n",
    "\n",
    "# nx.set_node_attributes(G, d, name='count')\n",
    "\n",
    "with shelve.open('nodes') as db:\n",
    "    G.add_nodes_from([(k, {'count': v}) for k, v in dict(db).items()])\n",
    "\n",
    "with shelve.open('edges') as db:\n",
    "    for e, w in db.items():\n",
    "        u, v = e.split(',')\n",
    "        G.add_edge(u, v, weight=w)"
   ]
  },
  {
   "cell_type": "code",
   "execution_count": 20,
   "metadata": {},
   "outputs": [
    {
     "data": {
      "text/plain": [
       "{'independent': 5.0,\n",
       " 'postdoc': 6.0,\n",
       " 'noc': 7.0,\n",
       " 'unemployed': 2.0,\n",
       " 'undergrad': 20.0,\n",
       " 'postgrad': 17.0,\n",
       " 'mining': 1,\n",
       " 'self-employed': 1,\n",
       " 'consultant': 1.0,\n",
       " 'microservice': 10.0,\n",
       " 'service': 3.0,\n",
       " 'professor': 36.0,\n",
       " 'retired': 2,\n",
       " 'megaservice': 5.0,\n",
       " 'software': 13.0,\n",
       " 'exploration': 6.0,\n",
       " 'startup': 7.0,\n",
       " 'government': 1,\n",
       " 'ioc': 24.0}"
      ]
     },
     "execution_count": 20,
     "metadata": {},
     "output_type": "execute_result"
    }
   ],
   "source": [
    "nx.get_node_attributes(G, 'count')"
   ]
  },
  {
   "cell_type": "markdown",
   "metadata": {},
   "source": [
    "## Viz\n",
    "\n",
    "- network diagram of paths\n",
    "- ribbons of time"
   ]
  },
  {
   "cell_type": "code",
   "execution_count": 21,
   "metadata": {},
   "outputs": [
    {
     "ename": "NameError",
     "evalue": "name 'd' is not defined",
     "output_type": "error",
     "traceback": [
      "\u001b[0;31m---------------------------------------------------------------------------\u001b[0m",
      "\u001b[0;31mNameError\u001b[0m                                 Traceback (most recent call last)",
      "\u001b[0;32m<ipython-input-21-e983f374794d>\u001b[0m in \u001b[0;36m<module>\u001b[0;34m\u001b[0m\n\u001b[0;32m----> 1\u001b[0;31m \u001b[0md\u001b[0m\u001b[0;34m\u001b[0m\u001b[0;34m\u001b[0m\u001b[0m\n\u001b[0m",
      "\u001b[0;31mNameError\u001b[0m: name 'd' is not defined"
     ]
    }
   ],
   "source": [
    "d"
   ]
  },
  {
   "cell_type": "code",
   "execution_count": 23,
   "metadata": {},
   "outputs": [
    {
     "data": {
      "image/png": "[encoded data removed]",
      "text/plain": [
       "<Figure size 576x576 with 1 Axes>"
      ]
     },
     "metadata": {},
     "output_type": "display_data"
    }
   ],
   "source": [
    "import numpy as np\n",
    "\n",
    "scale = 10\n",
    "\n",
    "weights = [G[u][v]['weight'] for u, v in G.edges()]\n",
    "counts = [scale * G.nodes[u]['count'] for u in G.nodes()]\n",
    "\n",
    "params = {\n",
    "    'node_size': counts,\n",
    "    'with_labels': True,\n",
    "    'width': weights,\n",
    "}\n",
    "\n",
    "pos = nx.spring_layout(G)\n",
    "\n",
    "import matplotlib.pyplot as plt\n",
    "plt.figure(figsize=(8,8))\n",
    "nx.draw(G, pos, **params)"
   ]
  },
  {
   "cell_type": "code",
   "execution_count": 24,
   "metadata": {},
   "outputs": [
    {
     "data": {
      "text/plain": [
       "{'independent': 5.0,\n",
       " 'postdoc': 6.0,\n",
       " 'noc': 7.0,\n",
       " 'unemployed': 2.0,\n",
       " 'undergrad': 20.0,\n",
       " 'postgrad': 17.0,\n",
       " 'mining': 1,\n",
       " 'self-employed': 1,\n",
       " 'consultant': 1.0,\n",
       " 'microservice': 10.0,\n",
       " 'service': 3.0,\n",
       " 'professor': 36.0,\n",
       " 'retired': 2,\n",
       " 'megaservice': 5.0,\n",
       " 'software': 13.0,\n",
       " 'exploration': 6.0,\n",
       " 'startup': 7.0,\n",
       " 'government': 1,\n",
       " 'ioc': 24.0}"
      ]
     },
     "execution_count": 24,
     "metadata": {},
     "output_type": "execute_result"
    }
   ],
   "source": [
    "nx.get_node_attributes(G, 'count')"
   ]
  },
  {
   "cell_type": "markdown",
   "metadata": {},
   "source": [
    "## Years"
   ]
  },
  {
   "cell_type": "code",
   "execution_count": 25,
   "metadata": {},
   "outputs": [],
   "source": [
    "def get_years():\n",
    "    with shelve.open('nodes') as db:\n",
    "        d = dict(db)\n",
    "\n",
    "    _ = d.pop('undergrad', None)\n",
    "    _ = d.pop('retired', None)\n",
    "    _ = d.pop('unemployed', None)\n",
    "    _ = d.pop('break', None)\n",
    "    labels = list(d.keys())\n",
    "    data = list(d.values())\n",
    "\n",
    "    return data, labels"
   ]
  },
  {
   "cell_type": "code",
   "execution_count": 26,
   "metadata": {},
   "outputs": [],
   "source": [
    "def get_lasts(shelf):\n",
    "    with shelve.open('lasts') as db:\n",
    "        d = dict(db)\n",
    "    labels = list(d.keys())\n",
    "    data = list(d.values())\n",
    "    return data, labels"
   ]
  },
  {
   "cell_type": "code",
   "execution_count": null,
   "metadata": {},
   "outputs": [],
   "source": []
  },
  {
   "cell_type": "code",
   "execution_count": 27,
   "metadata": {},
   "outputs": [],
   "source": [
    "import numpy as np\n",
    "from io import BytesIO\n",
    "import base64\n",
    "\n",
    "%matplotlib inline\n",
    "import matplotlib.pyplot as plt\n",
    "\n",
    "\n",
    "def plot_bars(data, labels, log=False, title=True, lpos=None):\n",
    "\n",
    "    data = sorted(data, reverse=True)\n",
    "    labels = sorted(labels, key=lambda li: data[labels.index(li)], reverse=True)\n",
    "\n",
    "    y = list(range(len(data)))\n",
    "    y_min, y_max = y[0]-0.75, y[-1]+0.75\n",
    "\n",
    "    fig, ax = plt.subplots(figsize=(8, 8))\n",
    "    bars = ax.barh(y, data, color='orange', align='center', edgecolor='none')\n",
    "    ax.set_yticks(y)\n",
    "    if log:\n",
    "        ax.set_xscale('log')\n",
    "    ax.set_yticklabels(labels, size=12)\n",
    "    ax.set_ylim(y_max, y_min)  # Label top-down.\n",
    "    ax.grid(c='black', alpha=0.15, which='both')\n",
    "    ax.patch.set_facecolor(\"white\")\n",
    "    fig.patch.set_facecolor(\"none\")\n",
    "    \n",
    "    if title is True:\n",
    "        t = \"{:.2f} person-careers of experience\".format(sum(data)/40)\n",
    "    elif title:\n",
    "        t = title\n",
    "    else:\n",
    "        t = \"\"\n",
    "    ax.set_title(t)\n",
    "\n",
    "\n",
    "    if lpos is None:\n",
    "        lpos = min(data)\n",
    "    for i, d in enumerate(data):\n",
    "        ax.text(lpos, i, \"{}\".format(int(d)), va='center', size=12)\n",
    "\n",
    "    plt.tight_layout()\n",
    "\n",
    "    # Put in memory.\n",
    "    handle = BytesIO()\n",
    "    plt.savefig(handle, format='png', facecolor=fig.get_facecolor())\n",
    "    plt.show()\n",
    "\n",
    "    # Encode.\n",
    "    handle.seek(0)\n",
    "    figdata_png = base64.b64encode(handle.getvalue()).decode('utf8')\n",
    "\n",
    "    return figdata_png\n"
   ]
  },
  {
   "cell_type": "code",
   "execution_count": 28,
   "metadata": {},
   "outputs": [
    {
     "data": {
      "image/png": "[encoded data removed]",
      "text/plain": [
       "<Figure size 576x576 with 1 Axes>"
      ]
     },
     "metadata": {
      "needs_background": "light"
     },
     "output_type": "display_data"
    }
   ],
   "source": [
    "data, labels = get_years()\n",
    "_ = plot_bars(data, labels, log=True)"
   ]
  },
  {
   "cell_type": "markdown",
   "metadata": {},
   "source": [
    "## Current thing"
   ]
  },
  {
   "cell_type": "code",
   "execution_count": 29,
   "metadata": {},
   "outputs": [
    {
     "ename": "NameError",
     "evalue": "name 'get_data' is not defined",
     "output_type": "error",
     "traceback": [
      "\u001b[0;31m---------------------------------------------------------------------------\u001b[0m",
      "\u001b[0;31mNameError\u001b[0m                                 Traceback (most recent call last)",
      "\u001b[0;32m<ipython-input-29-bf4d7a5afd0c>\u001b[0m in \u001b[0;36m<module>\u001b[0;34m\u001b[0m\n\u001b[0;32m----> 1\u001b[0;31m \u001b[0m_\u001b[0m \u001b[0;34m=\u001b[0m \u001b[0mplot_bars\u001b[0m\u001b[0;34m(\u001b[0m\u001b[0;34m*\u001b[0m\u001b[0mget_data\u001b[0m\u001b[0;34m(\u001b[0m\u001b[0;34m'lasts'\u001b[0m\u001b[0;34m)\u001b[0m\u001b[0;34m,\u001b[0m \u001b[0mtitle\u001b[0m\u001b[0;34m=\u001b[0m\u001b[0;34m\"Current position\"\u001b[0m\u001b[0;34m)\u001b[0m\u001b[0;34m\u001b[0m\u001b[0;34m\u001b[0m\u001b[0m\n\u001b[0m",
      "\u001b[0;31mNameError\u001b[0m: name 'get_data' is not defined"
     ]
    }
   ],
   "source": [
    "_ = plot_bars(*get_data('lasts'), title=\"Current position\")"
   ]
  },
  {
   "cell_type": "markdown",
   "metadata": {},
   "source": [
    "## Career lengths"
   ]
  },
  {
   "cell_type": "code",
   "execution_count": 30,
   "metadata": {},
   "outputs": [
    {
     "data": {
      "text/plain": [
       "[['0', '1', '2', '3', '4'],\n",
       " ['5', '6', '7', '8', '9'],\n",
       " ['10', '11', '12', '13', '14'],\n",
       " ['15', '16', '17', '18', '19'],\n",
       " ['20', '21', '22', '23', '24'],\n",
       " ['25', '26', '27', '28', '29'],\n",
       " ['30', '31', '32', '33', '34'],\n",
       " ['35', '36', '37', '38', '39'],\n",
       " ['40', '41', '42', '43', '44'],\n",
       " ['45', '46', '47', '48', '49']]"
      ]
     },
     "execution_count": 30,
     "metadata": {},
     "output_type": "execute_result"
    }
   ],
   "source": [
    "with shelve.open('lens') as db:\n",
    "    d = dict(db)\n",
    "\n",
    "def chunks(lst, n):\n",
    "    for i in range(0, len(lst), n):\n",
    "        yield lst[i:i + n]\n",
    "        \n",
    "bins = list(chunks([str(n) for n in range(50)], 5))\n",
    "bins"
   ]
  },
  {
   "cell_type": "code",
   "execution_count": 31,
   "metadata": {},
   "outputs": [
    {
     "data": {
      "text/plain": [
       "{'17': 2, '30': 1, '36': 1, '32': 1, '16': 1, '5': 1, '14': 1}"
      ]
     },
     "execution_count": 31,
     "metadata": {},
     "output_type": "execute_result"
    }
   ],
   "source": [
    "d"
   ]
  },
  {
   "cell_type": "code",
   "execution_count": 32,
   "metadata": {},
   "outputs": [],
   "source": [
    "labels = ['<5', '5-9', '10-14', '15-19', '20-24',\n",
    "        '25-29', '30-34', '35-39', '40-44', '45-49', '>50']"
   ]
  },
  {
   "cell_type": "code",
   "execution_count": 33,
   "metadata": {},
   "outputs": [],
   "source": [
    "from collections import OrderedDict\n",
    "\n"
   ]
  },
  {
   "cell_type": "code",
   "execution_count": 34,
   "metadata": {},
   "outputs": [
    {
     "data": {
      "text/plain": [
       "OrderedDict([('<5', 0),\n",
       "             ('5-9', 1),\n",
       "             ('10-14', 1),\n",
       "             ('15-19', 3),\n",
       "             ('20-24', 0),\n",
       "             ('25-29', 0),\n",
       "             ('30-34', 2),\n",
       "             ('35-39', 1),\n",
       "             ('40-44', 0),\n",
       "             ('45-49', 0),\n",
       "             ('>50', 0)])"
      ]
     },
     "execution_count": 34,
     "metadata": {},
     "output_type": "execute_result"
    }
   ],
   "source": [
    "data = [0 for l in labels]\n",
    "for k, v in d.items():\n",
    "    for idx, row in enumerate(bins):\n",
    "        if k in row: break\n",
    "    data[idx] += v\n",
    "    \n",
    "OrderedDict((l, d) for l, d in zip(labels, data))"
   ]
  },
  {
   "cell_type": "code",
   "execution_count": 35,
   "metadata": {},
   "outputs": [
    {
     "data": {
      "text/plain": [
       "[0, 1, 1, 3, 0, 0, 2, 1, 0, 0, 0]"
      ]
     },
     "execution_count": 35,
     "metadata": {},
     "output_type": "execute_result"
    }
   ],
   "source": [
    "data"
   ]
  },
  {
   "cell_type": "code",
   "execution_count": 36,
   "metadata": {},
   "outputs": [
    {
     "data": {
      "image/png": "[encoded data removed]",
      "text/plain": [
       "<Figure size 576x576 with 1 Axes>"
      ]
     },
     "metadata": {
      "needs_background": "light"
     },
     "output_type": "display_data"
    }
   ],
   "source": [
    "_ = plot_bars(data, labels, title=\"Career length so far\", lpos=0.5)"
   ]
  },
  {
   "cell_type": "markdown",
   "metadata": {},
   "source": [
    "# Delete the data"
   ]
  },
  {
   "cell_type": "code",
   "execution_count": 19,
   "metadata": {},
   "outputs": [],
   "source": [
    "# Deletes all the data on the deployed server.\n",
    "# https://careermap.softwareunderground.org/delete"
   ]
  },
  {
   "cell_type": "code",
   "execution_count": 37,
   "metadata": {},
   "outputs": [
    {
     "data": {
      "text/plain": [
       "<Response [200]>"
      ]
     },
     "execution_count": 37,
     "metadata": {},
     "output_type": "execute_result"
    }
   ],
   "source": [
    "import requests\n",
    "\n",
    "requests.delete(\"https://careermap.softwareunderground.org/delete\")"
   ]
  },
  {
   "cell_type": "code",
   "execution_count": null,
   "metadata": {},
   "outputs": [],
   "source": []
  }
 ],
 "metadata": {
  "kernelspec": {
   "display_name": "py38",
   "language": "python",
   "name": "py38"
  },
  "language_info": {
   "codemirror_mode": {
    "name": "ipython",
    "version": 3
   },
   "file_extension": ".py",
   "mimetype": "text/x-python",
   "name": "python",
   "nbconvert_exporter": "python",
   "pygments_lexer": "ipython3",
   "version": "3.8.5"
  }
 },
 "nbformat": 4,
 "nbformat_minor": 2
}
